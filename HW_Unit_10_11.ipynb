{
 "cells": [
  {
   "cell_type": "markdown",
   "metadata": {},
   "source": [
    "## Week 10 and 11 Assignment - DATASCI200 Introduction to Data Science Programming, UC Berkeley MIDS\n",
    "\n",
    "Write code in this Jupyter Notebook to solve the following problems. Please upload this **Notebook** with your solutions to your GitHub repository and provide a link in the last question in gradescope. \n",
    "\n",
    "Assignment due date: 11:59PM PT the night before the Week 12 Live Session. Do **NOT** push/upload the data file. "
   ]
  },
  {
   "cell_type": "markdown",
   "metadata": {},
   "source": [
    "## Objectives\n",
    "\n",
    "- Explore and glean insights from a real dataset using pandas\n",
    "- Practice using pandas for exploratory analysis, information gathering, and discovery\n",
    "- Practice cleaning data and answering questions"
   ]
  },
  {
   "cell_type": "markdown",
   "metadata": {},
   "source": [
    "## General Guidelines:\n",
    "\n",
    "- This is a **real** dataset and so it may contain errors and other pecularities to work through\n",
    "- This dataset is ~218mb, which will take some time to load (and probably won't load in Google Sheets or Excel)\n",
    "- If you make assumptions, annotate them in your responses\n",
    "- While there is one code/markdown cell positioned after each question as a placeholder, some of your code/responses may require multiple cells\n",
    "- Double-click the markdown cells that say for example **1a answer here:** to enter your written answers. If you need more cells for your written answers, make them markdown cells (rather than code cells)\n",
    "- This homework assignment is not autograded because of the variety of responses one could give. \n",
    "  - Please upload this notebook to the autograder page and the TAs will manually grade it. \n",
    "  - Ensure that each cell is run and outputs your answer for ease of grading! \n",
    "  - Highly suggest to do a `restart & run all` before uploading your code to ensure everything runs and outputs correctly.\n",
    "  - Answers without code (or code that runs) will be given 0 points.\n",
    "- **This is meant to simulate real world data so you will have to do some external research to determine what some of the answers are!** "
   ]
  },
  {
   "cell_type": "markdown",
   "metadata": {},
   "source": [
    "## Dataset\n",
    "\n",
    "You are to analyze campaign contributions to the 2016 U.S. presidential primary races made in California. Use the csv file located here: https://drive.google.com/file/d/1Lgg-PwXQ6TQLDowd6XyBxZw5g1NGWPjB/view?usp=sharing. You should download and save this file in the same folder as this notebook is stored.  This file originally came from the U.S. Federal Election Commission (https://www.fec.gov/).\n",
    "\n",
    "**DO NOT PUSH THIS FILE TO YOUR GITHUB REPO!**\n",
    "\n",
    "- Best practice is to not have DATA files in your code repo. As shown below, the default load is outside of the folder this notebook is in. If you change the folder where the file is stored please update the first cell!\n",
    "- If you do accidentally push the file to your github repo - follow the directions here to fix it: https://docs.google.com/document/d/15Irgb5V5G7pKPWgAerH7FPMpKeQRunbNflaW-hR2hTA/edit?usp=sharing\n",
    "\n",
    "Documentation for this data can be found here: https://drive.google.com/file/d/11o_SByceenv0NgNMstM-dxC1jL7I9fHL/view?usp=sharing"
   ]
  },
  {
   "cell_type": "markdown",
   "metadata": {},
   "source": [
    "## Data Questions\n",
    "\n",
    "You are working for a California state-wide election campaign. Your boss wants you to examine historic 2016 election contribution data to see what zipcodes are more supportive of fundraising for your candidate. \n",
    "\n",
    "Your boss asks you to filter out some of the records:\n",
    "- Only use primary 2016 contribution data (more like how your race is).\n",
    "- Concentrate on Bernie Sanders as a candidate (most a like your candidate)\n",
    "\n",
    "The questions your boss wants answered is:\n",
    "- Which zipcode (5-digit zipcode) had the highest count of contributions and the most dollar amount?\n",
    "- What day(s) of the month do most people donate?"
   ]
  },
  {
   "cell_type": "markdown",
   "metadata": {},
   "source": [
    "## Setup\n",
    "\n",
    "Run the cell below as it will load the data into a pandas dataframe named `contrib`. Note that a custom date parser is defined to speed up loading. If Python were to guess the date format, it would take even longer to load."
   ]
  },
  {
   "cell_type": "code",
   "execution_count": 1,
   "metadata": {},
   "outputs": [
    {
     "name": "stderr",
     "output_type": "stream",
     "text": [
      "C:\\Users\\vw480f\\AppData\\Local\\Temp\\ipykernel_12976\\2311071592.py:14: DtypeWarning: Columns (6,11,12) have mixed types. Specify dtype option on import or set low_memory=False.\n",
      "  contrib = pd.read_csv(r\"C:\\Users\\vw480f\\Downloads\\P00000001-CA.csv\", index_col=False, parse_dates=['contb_receipt_dt'], date_parser=d)\n"
     ]
    }
   ],
   "source": [
    "import pandas as pd\n",
    "import numpy as np\n",
    "from datetime import datetime\n",
    "\n",
    "# These commands below set some options for pandas and to have matplotlib show the charts in the notebook\n",
    "pd.set_option('display.max_rows', 1000)\n",
    "pd.options.display.float_format = '{:,.2f}'.format\n",
    "\n",
    "# Define a date parser to pass to read_csv\n",
    "d = lambda x: datetime.strptime(x, '%d-%b-%y')\n",
    "\n",
    "# Load the data\n",
    "# We have this defaulted to the folder OUTSIDE of your repo - please change it as needed\n",
    "contrib = pd.read_csv(r\"C:\\Users\\vw480f\\Downloads\\P00000001-CA.csv\", index_col=False, parse_dates=['contb_receipt_dt'], date_parser=d)\n",
    "\n",
    "# Note - for now, it is okay to ignore the warning about mixed types. "
   ]
  },
  {
   "cell_type": "markdown",
   "metadata": {},
   "source": [
    "***\n",
    "## 1. Initial Data Checks (50 points)\n",
    "\n",
    "First we will take a preliminary look at the data to check that it was loaded correctly and contains the info we need.\n",
    "\n",
    "The questions to answer at the end of this section:\n",
    "- Do we have the correct # of columns and rows. \n",
    "- Do the records contain data for the questions we want to answer \n",
    "- What columns are important? \n",
    "- What columns can be dropped?\n",
    "- What are the data problems?"
   ]
  },
  {
   "cell_type": "markdown",
   "metadata": {},
   "source": [
    "**1a.** Print the *shape* of the data. Does this match the expectation? (2 points)"
   ]
  },
  {
   "cell_type": "code",
   "execution_count": 2,
   "metadata": {
    "deletable": false,
    "nbgrader": {
     "checksum": "9f7a7938e43b14d3c7c49d6a278b0bb1",
     "grade": true,
     "grade_id": "cell-5d017805206f18b1",
     "locked": false,
     "points": 0,
     "schema_version": 1,
     "solution": true
    }
   },
   "outputs": [
    {
     "data": {
      "text/plain": [
       "(1125659, 18)"
      ]
     },
     "execution_count": 2,
     "metadata": {},
     "output_type": "execute_result"
    }
   ],
   "source": [
    "# 1a YOUR CODE HERE\n",
    "contrib.shape"
   ]
  },
  {
   "cell_type": "markdown",
   "metadata": {},
   "source": [
    "- **1a answer here:** \n",
    "Yes, the shape of the data matches the expectation. "
   ]
  },
  {
   "cell_type": "markdown",
   "metadata": {
    "deletable": false,
    "nbgrader": {
     "checksum": "e6a198453ec4b0171a064fef0bd7c678",
     "grade": true,
     "grade_id": "cell-3bc26919169bf4aa",
     "locked": false,
     "points": 5,
     "schema_version": 1,
     "solution": true
    }
   },
   "source": [
    "**1b.** Print a list of column names. Are all the columns included that are in the documentation? (2 points)"
   ]
  },
  {
   "cell_type": "code",
   "execution_count": 3,
   "metadata": {
    "deletable": false,
    "nbgrader": {
     "checksum": "4fbf682f1c78b3614832c6f48ecd88c7",
     "grade": true,
     "grade_id": "cell-72bc97601b84f17d",
     "locked": false,
     "points": 5,
     "schema_version": 1,
     "solution": true
    }
   },
   "outputs": [
    {
     "name": "stdout",
     "output_type": "stream",
     "text": [
      "['cmte_id', 'cand_id', 'cand_nm', 'contbr_nm', 'contbr_city', 'contbr_st', 'contbr_zip', 'contbr_employer', 'contbr_occupation', 'contb_receipt_amt', 'contb_receipt_dt', 'receipt_desc', 'memo_cd', 'memo_text', 'form_tp', 'file_num', 'tran_id', 'election_tp']\n"
     ]
    }
   ],
   "source": [
    "# 1b YOUR CODE HERE\n",
    "print(contrib.columns.tolist())"
   ]
  },
  {
   "cell_type": "markdown",
   "metadata": {},
   "source": [
    "- **1b answer here:** \n",
    "Yes, all the columns are included that are in the documentation."
   ]
  },
  {
   "cell_type": "markdown",
   "metadata": {},
   "source": [
    "**1c** Print out the first five rows of the dataset. How do the columns `cand_id`, `cand_nm` and `contbr_st` look? (3 points)"
   ]
  },
  {
   "cell_type": "code",
   "execution_count": 4,
   "metadata": {
    "scrolled": true
   },
   "outputs": [
    {
     "data": {
      "text/html": [
       "<div>\n",
       "<style scoped>\n",
       "    .dataframe tbody tr th:only-of-type {\n",
       "        vertical-align: middle;\n",
       "    }\n",
       "\n",
       "    .dataframe tbody tr th {\n",
       "        vertical-align: top;\n",
       "    }\n",
       "\n",
       "    .dataframe thead th {\n",
       "        text-align: right;\n",
       "    }\n",
       "</style>\n",
       "<table border=\"1\" class=\"dataframe\">\n",
       "  <thead>\n",
       "    <tr style=\"text-align: right;\">\n",
       "      <th></th>\n",
       "      <th>cmte_id</th>\n",
       "      <th>cand_id</th>\n",
       "      <th>cand_nm</th>\n",
       "      <th>contbr_nm</th>\n",
       "      <th>contbr_city</th>\n",
       "      <th>contbr_st</th>\n",
       "      <th>contbr_zip</th>\n",
       "      <th>contbr_employer</th>\n",
       "      <th>contbr_occupation</th>\n",
       "      <th>contb_receipt_amt</th>\n",
       "      <th>contb_receipt_dt</th>\n",
       "      <th>receipt_desc</th>\n",
       "      <th>memo_cd</th>\n",
       "      <th>memo_text</th>\n",
       "      <th>form_tp</th>\n",
       "      <th>file_num</th>\n",
       "      <th>tran_id</th>\n",
       "      <th>election_tp</th>\n",
       "    </tr>\n",
       "  </thead>\n",
       "  <tbody>\n",
       "    <tr>\n",
       "      <th>0</th>\n",
       "      <td>C00575795</td>\n",
       "      <td>P00003392</td>\n",
       "      <td>Clinton, Hillary Rodham</td>\n",
       "      <td>AULL, ANNE</td>\n",
       "      <td>LARKSPUR</td>\n",
       "      <td>CA</td>\n",
       "      <td>949,391,913.00</td>\n",
       "      <td>NaN</td>\n",
       "      <td>RETIRED</td>\n",
       "      <td>50.00</td>\n",
       "      <td>2016-04-26</td>\n",
       "      <td>NaN</td>\n",
       "      <td>X</td>\n",
       "      <td>* HILLARY VICTORY FUND</td>\n",
       "      <td>SA18</td>\n",
       "      <td>1091718</td>\n",
       "      <td>C4768722</td>\n",
       "      <td>P2016</td>\n",
       "    </tr>\n",
       "    <tr>\n",
       "      <th>1</th>\n",
       "      <td>C00575795</td>\n",
       "      <td>P00003392</td>\n",
       "      <td>Clinton, Hillary Rodham</td>\n",
       "      <td>CARROLL, MARYJEAN</td>\n",
       "      <td>CAMBRIA</td>\n",
       "      <td>CA</td>\n",
       "      <td>934,284,638.00</td>\n",
       "      <td>NaN</td>\n",
       "      <td>RETIRED</td>\n",
       "      <td>200.00</td>\n",
       "      <td>2016-04-20</td>\n",
       "      <td>NaN</td>\n",
       "      <td>X</td>\n",
       "      <td>* HILLARY VICTORY FUND</td>\n",
       "      <td>SA18</td>\n",
       "      <td>1091718</td>\n",
       "      <td>C4747242</td>\n",
       "      <td>P2016</td>\n",
       "    </tr>\n",
       "    <tr>\n",
       "      <th>2</th>\n",
       "      <td>C00575795</td>\n",
       "      <td>P00003392</td>\n",
       "      <td>Clinton, Hillary Rodham</td>\n",
       "      <td>GANDARA, DESIREE</td>\n",
       "      <td>FONTANA</td>\n",
       "      <td>CA</td>\n",
       "      <td>923,371,507.00</td>\n",
       "      <td>NaN</td>\n",
       "      <td>RETIRED</td>\n",
       "      <td>5.00</td>\n",
       "      <td>2016-04-02</td>\n",
       "      <td>NaN</td>\n",
       "      <td>X</td>\n",
       "      <td>* HILLARY VICTORY FUND</td>\n",
       "      <td>SA18</td>\n",
       "      <td>1091718</td>\n",
       "      <td>C4666603</td>\n",
       "      <td>P2016</td>\n",
       "    </tr>\n",
       "    <tr>\n",
       "      <th>3</th>\n",
       "      <td>C00577130</td>\n",
       "      <td>P60007168</td>\n",
       "      <td>Sanders, Bernard</td>\n",
       "      <td>LEE, ALAN</td>\n",
       "      <td>CAMARILLO</td>\n",
       "      <td>CA</td>\n",
       "      <td>930,111,214.00</td>\n",
       "      <td>AT&amp;T GOVERNMENT SOLUTIONS</td>\n",
       "      <td>SOFTWARE ENGINEER</td>\n",
       "      <td>40.00</td>\n",
       "      <td>2016-03-04</td>\n",
       "      <td>NaN</td>\n",
       "      <td>NaN</td>\n",
       "      <td>* EARMARKED CONTRIBUTION: SEE BELOW</td>\n",
       "      <td>SA17A</td>\n",
       "      <td>1077404</td>\n",
       "      <td>VPF7BKWA097</td>\n",
       "      <td>P2016</td>\n",
       "    </tr>\n",
       "    <tr>\n",
       "      <th>4</th>\n",
       "      <td>C00577130</td>\n",
       "      <td>P60007168</td>\n",
       "      <td>Sanders, Bernard</td>\n",
       "      <td>LEONELLI, ODETTE</td>\n",
       "      <td>REDONDO BEACH</td>\n",
       "      <td>CA</td>\n",
       "      <td>902,784,310.00</td>\n",
       "      <td>VERICOR ENTERPRISES INC.</td>\n",
       "      <td>PHARMACIST</td>\n",
       "      <td>35.00</td>\n",
       "      <td>2016-03-05</td>\n",
       "      <td>NaN</td>\n",
       "      <td>NaN</td>\n",
       "      <td>* EARMARKED CONTRIBUTION: SEE BELOW</td>\n",
       "      <td>SA17A</td>\n",
       "      <td>1077404</td>\n",
       "      <td>VPF7BKX3MB3</td>\n",
       "      <td>P2016</td>\n",
       "    </tr>\n",
       "  </tbody>\n",
       "</table>\n",
       "</div>"
      ],
      "text/plain": [
       "     cmte_id    cand_id                  cand_nm          contbr_nm  \\\n",
       "0  C00575795  P00003392  Clinton, Hillary Rodham         AULL, ANNE   \n",
       "1  C00575795  P00003392  Clinton, Hillary Rodham  CARROLL, MARYJEAN   \n",
       "2  C00575795  P00003392  Clinton, Hillary Rodham   GANDARA, DESIREE   \n",
       "3  C00577130  P60007168         Sanders, Bernard          LEE, ALAN   \n",
       "4  C00577130  P60007168         Sanders, Bernard   LEONELLI, ODETTE   \n",
       "\n",
       "     contbr_city contbr_st     contbr_zip            contbr_employer  \\\n",
       "0       LARKSPUR        CA 949,391,913.00                        NaN   \n",
       "1        CAMBRIA        CA 934,284,638.00                        NaN   \n",
       "2        FONTANA        CA 923,371,507.00                        NaN   \n",
       "3      CAMARILLO        CA 930,111,214.00  AT&T GOVERNMENT SOLUTIONS   \n",
       "4  REDONDO BEACH        CA 902,784,310.00   VERICOR ENTERPRISES INC.   \n",
       "\n",
       "   contbr_occupation  contb_receipt_amt contb_receipt_dt receipt_desc memo_cd  \\\n",
       "0            RETIRED              50.00       2016-04-26          NaN       X   \n",
       "1            RETIRED             200.00       2016-04-20          NaN       X   \n",
       "2            RETIRED               5.00       2016-04-02          NaN       X   \n",
       "3  SOFTWARE ENGINEER              40.00       2016-03-04          NaN     NaN   \n",
       "4         PHARMACIST              35.00       2016-03-05          NaN     NaN   \n",
       "\n",
       "                             memo_text form_tp  file_num      tran_id  \\\n",
       "0               * HILLARY VICTORY FUND    SA18   1091718     C4768722   \n",
       "1               * HILLARY VICTORY FUND    SA18   1091718     C4747242   \n",
       "2               * HILLARY VICTORY FUND    SA18   1091718     C4666603   \n",
       "3  * EARMARKED CONTRIBUTION: SEE BELOW   SA17A   1077404  VPF7BKWA097   \n",
       "4  * EARMARKED CONTRIBUTION: SEE BELOW   SA17A   1077404  VPF7BKX3MB3   \n",
       "\n",
       "  election_tp  \n",
       "0       P2016  \n",
       "1       P2016  \n",
       "2       P2016  \n",
       "3       P2016  \n",
       "4       P2016  "
      ]
     },
     "execution_count": 4,
     "metadata": {},
     "output_type": "execute_result"
    }
   ],
   "source": [
    "# 1c YOUR CODE HERE\n",
    "contrib.head(5)\n"
   ]
  },
  {
   "cell_type": "markdown",
   "metadata": {},
   "source": [
    "- **1c answer here:**\n",
    "\n",
    "cand_id is candidate ID and starts with the letter P for both candidates. \n",
    "cand_nm is candidate name and has candidate full name with the last name separated by a comma from the first name. \n",
    "contbr_st is contributor State."
   ]
  },
  {
   "cell_type": "markdown",
   "metadata": {
    "deletable": false,
    "nbgrader": {
     "checksum": "0ec29a2cabd52709322d1cfd650babe7",
     "grade": true,
     "grade_id": "cell-23b51536d24c1645",
     "locked": false,
     "points": 0,
     "schema_version": 1,
     "solution": true
    }
   },
   "source": [
    "**1d.** Print out the values for the column `election_tp`. In your own words, based on the documentation, what information does the `election_tp` variable contain? Do the values in the column match the documentation? (3 points)"
   ]
  },
  {
   "cell_type": "code",
   "execution_count": 5,
   "metadata": {},
   "outputs": [
    {
     "name": "stdout",
     "output_type": "stream",
     "text": [
      "0          P2016\n",
      "1          P2016\n",
      "2          P2016\n",
      "3          P2016\n",
      "4          P2016\n",
      "           ...  \n",
      "1125654    P2016\n",
      "1125655    P2016\n",
      "1125656    P2016\n",
      "1125657    P2016\n",
      "1125658    P2016\n",
      "Name: election_tp, Length: 1125659, dtype: object\n"
     ]
    },
    {
     "data": {
      "text/plain": [
       "array(['P2016', 'G2016', nan, 'P2020'], dtype=object)"
      ]
     },
     "execution_count": 5,
     "metadata": {},
     "output_type": "execute_result"
    }
   ],
   "source": [
    "# 1d YOUR CODE HERE\n",
    "print(contrib.election_tp)\n",
    "\n",
    "contrib['election_tp'].unique()\n"
   ]
  },
  {
   "cell_type": "markdown",
   "metadata": {
    "deletable": false,
    "nbgrader": {
     "checksum": "cfa64002e64474584dc1442b5a39b460",
     "grade": true,
     "grade_id": "cell-8a320c2ff7c24d98",
     "locked": false,
     "points": 0,
     "schema_version": 1,
     "solution": true
    }
   },
   "source": [
    "- **1d answer here:** \n",
    "election_tp is election type and this column has 2016 and 2020 primary election data, 2016 general election data, and also null values. "
   ]
  },
  {
   "cell_type": "markdown",
   "metadata": {
    "deletable": false,
    "nbgrader": {
     "checksum": "442b24601da06376c43cbe6ef5c5348a",
     "grade": true,
     "grade_id": "cell-6a453219105384dd",
     "locked": false,
     "points": 0,
     "schema_version": 1,
     "solution": true
    }
   },
   "source": [
    "**1e.** Print out the datatypes for all of the columns. What are the datatypes for the `contbr_zip`, `contb_receipt_amt`, `contb_receipt_dt`? (5 points)"
   ]
  },
  {
   "cell_type": "code",
   "execution_count": 6,
   "metadata": {
    "deletable": false,
    "nbgrader": {
     "checksum": "c5a1b7f30648cced7269ccb9b1532bd6",
     "grade": true,
     "grade_id": "cell-90c49bd6471a3dc9",
     "locked": false,
     "points": 0,
     "schema_version": 1,
     "solution": true
    }
   },
   "outputs": [
    {
     "data": {
      "text/plain": [
       "cmte_id                      object\n",
       "cand_id                      object\n",
       "cand_nm                      object\n",
       "contbr_nm                    object\n",
       "contbr_city                  object\n",
       "contbr_st                    object\n",
       "contbr_zip                   object\n",
       "contbr_employer              object\n",
       "contbr_occupation            object\n",
       "contb_receipt_amt           float64\n",
       "contb_receipt_dt     datetime64[ns]\n",
       "receipt_desc                 object\n",
       "memo_cd                      object\n",
       "memo_text                    object\n",
       "form_tp                      object\n",
       "file_num                      int64\n",
       "tran_id                      object\n",
       "election_tp                  object\n",
       "dtype: object"
      ]
     },
     "execution_count": 6,
     "metadata": {},
     "output_type": "execute_result"
    }
   ],
   "source": [
    "# 1e YOUR CODE HERE\n",
    "contrib.dtypes\n"
   ]
  },
  {
   "cell_type": "markdown",
   "metadata": {
    "deletable": false,
    "nbgrader": {
     "checksum": "60d3e303837e9603de5b96e32af7d806",
     "grade": true,
     "grade_id": "cell-447dc63eff8ebc5f",
     "locked": false,
     "points": 0,
     "schema_version": 1,
     "solution": true
    }
   },
   "source": [
    "- **1e answer here:** \n",
    "\n",
    "contbr_zip is object data type. \n",
    "contb_receipt_amt is float64 data type\n",
    "contb_receipt_dt is datetime64[ns] data type"
   ]
  },
  {
   "cell_type": "markdown",
   "metadata": {
    "collapsed": true,
    "deletable": false,
    "nbgrader": {
     "checksum": "20a71229316bf24a2ce62c52f72d8142",
     "grade": true,
     "grade_id": "cell-963603c5ed346a99",
     "locked": false,
     "points": 0,
     "schema_version": 1,
     "solution": true
    }
   },
   "source": [
    "**1f.** What columns have the most non-nulls?  Would you recommend to drop any columns based on the number of nulls? (5 points)"
   ]
  },
  {
   "cell_type": "code",
   "execution_count": 7,
   "metadata": {
    "deletable": false,
    "nbgrader": {
     "checksum": "426b589a9d6457f38381eb1c77678d4f",
     "grade": true,
     "grade_id": "cell-b6fc3f7c906c95a2",
     "locked": false,
     "points": 0,
     "schema_version": 1,
     "solution": true
    }
   },
   "outputs": [
    {
     "data": {
      "text/plain": [
       "cmte_id                    0\n",
       "cand_id                    0\n",
       "cand_nm                    0\n",
       "contbr_nm                  0\n",
       "contbr_city               26\n",
       "contbr_st                  0\n",
       "contbr_zip                95\n",
       "contbr_employer       157902\n",
       "contbr_occupation      10399\n",
       "contb_receipt_amt          0\n",
       "contb_receipt_dt           0\n",
       "receipt_desc         1110614\n",
       "memo_cd               981391\n",
       "memo_text             624511\n",
       "form_tp                    0\n",
       "file_num                   0\n",
       "tran_id                    0\n",
       "election_tp             1425\n",
       "dtype: int64"
      ]
     },
     "execution_count": 7,
     "metadata": {},
     "output_type": "execute_result"
    }
   ],
   "source": [
    "# 1f YOUR CODE HERE\n",
    "contrib.isnull().sum()\n"
   ]
  },
  {
   "cell_type": "markdown",
   "metadata": {
    "collapsed": true,
    "deletable": false,
    "nbgrader": {
     "checksum": "81ebf2a2f96961b4464f6c35d2143427",
     "grade": true,
     "grade_id": "cell-bea2cf7a6fff8565",
     "locked": false,
     "points": 0,
     "schema_version": 1,
     "solution": true
    }
   },
   "source": [
    "- **1f answer here:** \n",
    "cmte_id, cand_id, cand_nm, contbr_nm, contbr_st, contb_receipt_amt ,contb_receipt_dt, form_tp, file_num, and tran_id columns have the most non-nulls. These columns have no nulls. \n",
    "I recommend dropping receipt_desc and memo_cd columns. \n",
    "memo_cd columns contain null values or the letter X which provide no useful information. \n",
    "receipt_desc also provides no important information and also have 1110614 null values. "
   ]
  },
  {
   "cell_type": "markdown",
   "metadata": {},
   "source": [
    "**1g.** A column we know that we want to use is the cand_nm column.  From the documentation each candidate is a unique candidate id also. Check data quality of `cand_id` column to see if it matches `cand_nm` column. Specifically check to ensure our targetted candidate 'Bernard Sanders' always has the same cand_id throughout. Any issues with `cand_nm` matching `cand_id`? (5 points)"
   ]
  },
  {
   "cell_type": "code",
   "execution_count": 6,
   "metadata": {},
   "outputs": [
    {
     "name": "stdout",
     "output_type": "stream",
     "text": [
      "Unique Candidate ID for Bernard Sanders: ['P60007168']\n",
      "Unique Candidate ID for Hillary Clinton: ['P00003392']\n"
     ]
    }
   ],
   "source": [
    "# 1g YOUR CODE HERE\n",
    "\n",
    "# Filtering rows for the candidate 'Bernard Sanders'\n",
    "sanders_data = contrib[contrib['cand_nm'] == 'Sanders, Bernard']\n",
    "\n",
    "# Checking unique values in the 'cand_id' column for Bernie Sanders\n",
    "unique_cand_ids = sanders_data['cand_id'].unique()\n",
    "\n",
    "print(\"Unique Candidate ID for Bernard Sanders:\", unique_cand_ids)\n",
    "\n",
    "\n",
    "\n",
    "# Filtering rows for the candidate 'Hillary Rodham Clinton'\n",
    "clinton_data = contrib[contrib['cand_nm'] == 'Clinton, Hillary Rodham']\n",
    "\n",
    "# Checking unique values in the 'cand_id' column for Hillary Clinton\n",
    "unique_cand_ids_clinton = clinton_data['cand_id'].unique()\n",
    "\n",
    "print(\"Unique Candidate ID for Hillary Clinton:\", unique_cand_ids_clinton)\n",
    "\n"
   ]
  },
  {
   "cell_type": "markdown",
   "metadata": {},
   "source": [
    "- **1g answer here:** \n",
    "There is no issue with cand_nm matching cand_id. Verified this information for Bernard Sanders and Hilary Clinton. "
   ]
  },
  {
   "cell_type": "markdown",
   "metadata": {},
   "source": [
    "**1h.** Another area to check is to make sure all of the records are from California. Check the `contbr_st` column - are there any records outside of California based on `contbr_st`? (5 points)"
   ]
  },
  {
   "cell_type": "code",
   "execution_count": 7,
   "metadata": {},
   "outputs": [
    {
     "name": "stdout",
     "output_type": "stream",
     "text": [
      "['CA']\n"
     ]
    }
   ],
   "source": [
    "# 1h YOUR CODE HERE\n",
    "unique_contbr_st=contrib['contbr_st'].unique()\n",
    "print(unique_contbr_st)"
   ]
  },
  {
   "cell_type": "markdown",
   "metadata": {},
   "source": [
    "- **1h answer here:** \n",
    "There is no record outside of California as there is only one unique value for the column contbr_st, which is CA. "
   ]
  },
  {
   "cell_type": "markdown",
   "metadata": {},
   "source": [
    "**1i.** The next column to check for the analysis is the `tran_id` column. This column could be the primary key so look for duplicates. How many duplicate entries are there? Any pattern for why are there duplicate entries? (5 points)"
   ]
  },
  {
   "cell_type": "code",
   "execution_count": 8,
   "metadata": {},
   "outputs": [
    {
     "name": "stdout",
     "output_type": "stream",
     "text": [
      "6873\n"
     ]
    },
    {
     "data": {
      "text/html": [
       "<div>\n",
       "<style scoped>\n",
       "    .dataframe tbody tr th:only-of-type {\n",
       "        vertical-align: middle;\n",
       "    }\n",
       "\n",
       "    .dataframe tbody tr th {\n",
       "        vertical-align: top;\n",
       "    }\n",
       "\n",
       "    .dataframe thead th {\n",
       "        text-align: right;\n",
       "    }\n",
       "</style>\n",
       "<table border=\"1\" class=\"dataframe\">\n",
       "  <thead>\n",
       "    <tr style=\"text-align: right;\">\n",
       "      <th></th>\n",
       "      <th>cmte_id</th>\n",
       "      <th>cand_id</th>\n",
       "      <th>cand_nm</th>\n",
       "      <th>contbr_nm</th>\n",
       "      <th>contbr_city</th>\n",
       "      <th>contbr_st</th>\n",
       "      <th>contbr_zip</th>\n",
       "      <th>contbr_employer</th>\n",
       "      <th>contbr_occupation</th>\n",
       "      <th>contb_receipt_amt</th>\n",
       "      <th>contb_receipt_dt</th>\n",
       "      <th>receipt_desc</th>\n",
       "      <th>memo_cd</th>\n",
       "      <th>memo_text</th>\n",
       "      <th>form_tp</th>\n",
       "      <th>file_num</th>\n",
       "      <th>tran_id</th>\n",
       "      <th>election_tp</th>\n",
       "    </tr>\n",
       "  </thead>\n",
       "  <tbody>\n",
       "    <tr>\n",
       "      <th>42386</th>\n",
       "      <td>C00575449</td>\n",
       "      <td>P40003576</td>\n",
       "      <td>Paul, Rand</td>\n",
       "      <td>PARKS, PATRICIA MRS.</td>\n",
       "      <td>HUGHSON</td>\n",
       "      <td>CA</td>\n",
       "      <td>95,326.00</td>\n",
       "      <td>SELF</td>\n",
       "      <td>HOUSEWIFE</td>\n",
       "      <td>200.00</td>\n",
       "      <td>2015-11-28</td>\n",
       "      <td>NaN</td>\n",
       "      <td>X</td>\n",
       "      <td>NaN</td>\n",
       "      <td>SA17A</td>\n",
       "      <td>1057796</td>\n",
       "      <td>A26C35A6066754130B99</td>\n",
       "      <td>P2016</td>\n",
       "    </tr>\n",
       "    <tr>\n",
       "      <th>42835</th>\n",
       "      <td>C00575449</td>\n",
       "      <td>P40003576</td>\n",
       "      <td>Paul, Rand</td>\n",
       "      <td>PARKS, PATRICIA MRS.</td>\n",
       "      <td>HUGHSON</td>\n",
       "      <td>CA</td>\n",
       "      <td>95,326.00</td>\n",
       "      <td>SELF</td>\n",
       "      <td>HOUSEWIFE</td>\n",
       "      <td>200.00</td>\n",
       "      <td>2015-11-28</td>\n",
       "      <td>NaN</td>\n",
       "      <td>X</td>\n",
       "      <td>NaN</td>\n",
       "      <td>SA17A</td>\n",
       "      <td>1057799</td>\n",
       "      <td>A26C35A6066754130B99</td>\n",
       "      <td>P2016</td>\n",
       "    </tr>\n",
       "    <tr>\n",
       "      <th>43573</th>\n",
       "      <td>C00575449</td>\n",
       "      <td>P40003576</td>\n",
       "      <td>Paul, Rand</td>\n",
       "      <td>PARKS, PATRICIA MRS.</td>\n",
       "      <td>HUGHSON</td>\n",
       "      <td>CA</td>\n",
       "      <td>95,326.00</td>\n",
       "      <td>SELF</td>\n",
       "      <td>HOUSEWIFE</td>\n",
       "      <td>200.00</td>\n",
       "      <td>2015-11-28</td>\n",
       "      <td>NaN</td>\n",
       "      <td>X</td>\n",
       "      <td>NaN</td>\n",
       "      <td>SA17A</td>\n",
       "      <td>1057798</td>\n",
       "      <td>A26C35A6066754130B99</td>\n",
       "      <td>P2016</td>\n",
       "    </tr>\n",
       "    <tr>\n",
       "      <th>42428</th>\n",
       "      <td>C00575449</td>\n",
       "      <td>P40003576</td>\n",
       "      <td>Paul, Rand</td>\n",
       "      <td>BREED, PAUL MR.</td>\n",
       "      <td>SOLANA BEACH</td>\n",
       "      <td>CA</td>\n",
       "      <td>92,075.00</td>\n",
       "      <td>NET BURNER</td>\n",
       "      <td>ENGINEER</td>\n",
       "      <td>-500.00</td>\n",
       "      <td>2015-10-28</td>\n",
       "      <td>NaN</td>\n",
       "      <td>X</td>\n",
       "      <td>NaN</td>\n",
       "      <td>SA17A</td>\n",
       "      <td>1057796</td>\n",
       "      <td>A340DF85B7F884133A20</td>\n",
       "      <td>P2016</td>\n",
       "    </tr>\n",
       "    <tr>\n",
       "      <th>42820</th>\n",
       "      <td>C00575449</td>\n",
       "      <td>P40003576</td>\n",
       "      <td>Paul, Rand</td>\n",
       "      <td>BREED, PAUL MR.</td>\n",
       "      <td>SOLANA BEACH</td>\n",
       "      <td>CA</td>\n",
       "      <td>92,075.00</td>\n",
       "      <td>NET BURNER</td>\n",
       "      <td>ENGINEER</td>\n",
       "      <td>-500.00</td>\n",
       "      <td>2015-10-28</td>\n",
       "      <td>NaN</td>\n",
       "      <td>X</td>\n",
       "      <td>NaN</td>\n",
       "      <td>SA17A</td>\n",
       "      <td>1057799</td>\n",
       "      <td>A340DF85B7F884133A20</td>\n",
       "      <td>P2016</td>\n",
       "    </tr>\n",
       "    <tr>\n",
       "      <th>...</th>\n",
       "      <td>...</td>\n",
       "      <td>...</td>\n",
       "      <td>...</td>\n",
       "      <td>...</td>\n",
       "      <td>...</td>\n",
       "      <td>...</td>\n",
       "      <td>...</td>\n",
       "      <td>...</td>\n",
       "      <td>...</td>\n",
       "      <td>...</td>\n",
       "      <td>...</td>\n",
       "      <td>...</td>\n",
       "      <td>...</td>\n",
       "      <td>...</td>\n",
       "      <td>...</td>\n",
       "      <td>...</td>\n",
       "      <td>...</td>\n",
       "      <td>...</td>\n",
       "    </tr>\n",
       "    <tr>\n",
       "      <th>15532</th>\n",
       "      <td>C00574624</td>\n",
       "      <td>P60006111</td>\n",
       "      <td>Cruz, Rafael Edward 'Ted'</td>\n",
       "      <td>BARTELS, DAVE</td>\n",
       "      <td>LAGUNA HILLS</td>\n",
       "      <td>CA</td>\n",
       "      <td>92,653.00</td>\n",
       "      <td>NaN</td>\n",
       "      <td>NaN</td>\n",
       "      <td>-2,700.00</td>\n",
       "      <td>2016-06-30</td>\n",
       "      <td>Refund</td>\n",
       "      <td>NaN</td>\n",
       "      <td>NaN</td>\n",
       "      <td>SB28A</td>\n",
       "      <td>1096256</td>\n",
       "      <td>SB28A.90929</td>\n",
       "      <td>NaN</td>\n",
       "    </tr>\n",
       "    <tr>\n",
       "      <th>36137</th>\n",
       "      <td>C00458844</td>\n",
       "      <td>P60006723</td>\n",
       "      <td>Rubio, Marco</td>\n",
       "      <td>RUBY, HOWARD</td>\n",
       "      <td>LOS ANGELES</td>\n",
       "      <td>CA</td>\n",
       "      <td>90,064.00</td>\n",
       "      <td>NaN</td>\n",
       "      <td>NaN</td>\n",
       "      <td>-1,800.00</td>\n",
       "      <td>2016-05-13</td>\n",
       "      <td>Refund</td>\n",
       "      <td>NaN</td>\n",
       "      <td>NaN</td>\n",
       "      <td>SB28A</td>\n",
       "      <td>1079053</td>\n",
       "      <td>SB28A.9119</td>\n",
       "      <td>G2016</td>\n",
       "    </tr>\n",
       "    <tr>\n",
       "      <th>37477</th>\n",
       "      <td>C00573519</td>\n",
       "      <td>P60005915</td>\n",
       "      <td>Carson, Benjamin S.</td>\n",
       "      <td>SAMPSON, RALPH</td>\n",
       "      <td>CARLSBAD</td>\n",
       "      <td>CA</td>\n",
       "      <td>92,008.00</td>\n",
       "      <td>NaN</td>\n",
       "      <td>NaN</td>\n",
       "      <td>-100.00</td>\n",
       "      <td>2016-05-19</td>\n",
       "      <td>Refund</td>\n",
       "      <td>NaN</td>\n",
       "      <td>NaN</td>\n",
       "      <td>SB28A</td>\n",
       "      <td>1079198</td>\n",
       "      <td>SB28A.9119</td>\n",
       "      <td>NaN</td>\n",
       "    </tr>\n",
       "    <tr>\n",
       "      <th>36139</th>\n",
       "      <td>C00458844</td>\n",
       "      <td>P60006723</td>\n",
       "      <td>Rubio, Marco</td>\n",
       "      <td>RUSS, SUNNY</td>\n",
       "      <td>BEVERLY HILLS</td>\n",
       "      <td>CA</td>\n",
       "      <td>90,210.00</td>\n",
       "      <td>NaN</td>\n",
       "      <td>NaN</td>\n",
       "      <td>-200.00</td>\n",
       "      <td>2016-05-13</td>\n",
       "      <td>Refund</td>\n",
       "      <td>NaN</td>\n",
       "      <td>NaN</td>\n",
       "      <td>SB28A</td>\n",
       "      <td>1079053</td>\n",
       "      <td>SB28A.9127</td>\n",
       "      <td>G2016</td>\n",
       "    </tr>\n",
       "    <tr>\n",
       "      <th>37470</th>\n",
       "      <td>C00573519</td>\n",
       "      <td>P60005915</td>\n",
       "      <td>Carson, Benjamin S.</td>\n",
       "      <td>LEACH, FLORENCE</td>\n",
       "      <td>AUBURN</td>\n",
       "      <td>CA</td>\n",
       "      <td>95,602.00</td>\n",
       "      <td>NaN</td>\n",
       "      <td>NaN</td>\n",
       "      <td>-50.00</td>\n",
       "      <td>2016-05-19</td>\n",
       "      <td>Refund</td>\n",
       "      <td>NaN</td>\n",
       "      <td>NaN</td>\n",
       "      <td>SB28A</td>\n",
       "      <td>1079198</td>\n",
       "      <td>SB28A.9127</td>\n",
       "      <td>NaN</td>\n",
       "    </tr>\n",
       "  </tbody>\n",
       "</table>\n",
       "<p>6873 rows × 18 columns</p>\n",
       "</div>"
      ],
      "text/plain": [
       "         cmte_id    cand_id                    cand_nm             contbr_nm  \\\n",
       "42386  C00575449  P40003576                 Paul, Rand  PARKS, PATRICIA MRS.   \n",
       "42835  C00575449  P40003576                 Paul, Rand  PARKS, PATRICIA MRS.   \n",
       "43573  C00575449  P40003576                 Paul, Rand  PARKS, PATRICIA MRS.   \n",
       "42428  C00575449  P40003576                 Paul, Rand       BREED, PAUL MR.   \n",
       "42820  C00575449  P40003576                 Paul, Rand       BREED, PAUL MR.   \n",
       "...          ...        ...                        ...                   ...   \n",
       "15532  C00574624  P60006111  Cruz, Rafael Edward 'Ted'         BARTELS, DAVE   \n",
       "36137  C00458844  P60006723               Rubio, Marco          RUBY, HOWARD   \n",
       "37477  C00573519  P60005915        Carson, Benjamin S.        SAMPSON, RALPH   \n",
       "36139  C00458844  P60006723               Rubio, Marco           RUSS, SUNNY   \n",
       "37470  C00573519  P60005915        Carson, Benjamin S.       LEACH, FLORENCE   \n",
       "\n",
       "         contbr_city contbr_st contbr_zip contbr_employer contbr_occupation  \\\n",
       "42386        HUGHSON        CA  95,326.00            SELF         HOUSEWIFE   \n",
       "42835        HUGHSON        CA  95,326.00            SELF         HOUSEWIFE   \n",
       "43573        HUGHSON        CA  95,326.00            SELF         HOUSEWIFE   \n",
       "42428   SOLANA BEACH        CA  92,075.00      NET BURNER          ENGINEER   \n",
       "42820   SOLANA BEACH        CA  92,075.00      NET BURNER          ENGINEER   \n",
       "...              ...       ...        ...             ...               ...   \n",
       "15532   LAGUNA HILLS        CA  92,653.00             NaN               NaN   \n",
       "36137    LOS ANGELES        CA  90,064.00             NaN               NaN   \n",
       "37477       CARLSBAD        CA  92,008.00             NaN               NaN   \n",
       "36139  BEVERLY HILLS        CA  90,210.00             NaN               NaN   \n",
       "37470         AUBURN        CA  95,602.00             NaN               NaN   \n",
       "\n",
       "       contb_receipt_amt contb_receipt_dt receipt_desc memo_cd memo_text  \\\n",
       "42386             200.00       2015-11-28          NaN       X       NaN   \n",
       "42835             200.00       2015-11-28          NaN       X       NaN   \n",
       "43573             200.00       2015-11-28          NaN       X       NaN   \n",
       "42428            -500.00       2015-10-28          NaN       X       NaN   \n",
       "42820            -500.00       2015-10-28          NaN       X       NaN   \n",
       "...                  ...              ...          ...     ...       ...   \n",
       "15532          -2,700.00       2016-06-30       Refund     NaN       NaN   \n",
       "36137          -1,800.00       2016-05-13       Refund     NaN       NaN   \n",
       "37477            -100.00       2016-05-19       Refund     NaN       NaN   \n",
       "36139            -200.00       2016-05-13       Refund     NaN       NaN   \n",
       "37470             -50.00       2016-05-19       Refund     NaN       NaN   \n",
       "\n",
       "      form_tp  file_num               tran_id election_tp  \n",
       "42386   SA17A   1057796  A26C35A6066754130B99       P2016  \n",
       "42835   SA17A   1057799  A26C35A6066754130B99       P2016  \n",
       "43573   SA17A   1057798  A26C35A6066754130B99       P2016  \n",
       "42428   SA17A   1057796  A340DF85B7F884133A20       P2016  \n",
       "42820   SA17A   1057799  A340DF85B7F884133A20       P2016  \n",
       "...       ...       ...                   ...         ...  \n",
       "15532   SB28A   1096256           SB28A.90929         NaN  \n",
       "36137   SB28A   1079053            SB28A.9119       G2016  \n",
       "37477   SB28A   1079198            SB28A.9119         NaN  \n",
       "36139   SB28A   1079053            SB28A.9127       G2016  \n",
       "37470   SB28A   1079198            SB28A.9127         NaN  \n",
       "\n",
       "[6873 rows x 18 columns]"
      ]
     },
     "execution_count": 8,
     "metadata": {},
     "output_type": "execute_result"
    }
   ],
   "source": [
    "# 1i YOUR CODE HERE\n",
    "\n",
    "print(contrib['tran_id'].duplicated(keep=False).sum())\n",
    "\n",
    "duplicate_tran_ids = contrib[contrib.duplicated(subset=['tran_id'], keep=False)]\n",
    "\n",
    "#if not duplicate_tran_ids.empty:\n",
    "    #print(\"Rows with Duplicate tran_id:\")\n",
    "    #print(duplicate_tran_ids)\n",
    "#else:\n",
    "    #print(\"No Duplicate tran_id found.\")\n",
    "    \n",
    "\n",
    "ids = contrib[\"tran_id\"]\n",
    "contrib[ids.isin(ids[ids.duplicated()])].sort_values(\"tran_id\")"
   ]
  },
  {
   "cell_type": "markdown",
   "metadata": {},
   "source": [
    "- **1i answer here:** \n",
    "There are 6873 duplicate transaction IDs. There is no discernable pattern. Sometimes, there are refunds with same transaction ID, sometimes there is same file number for the same transation ID. "
   ]
  },
  {
   "cell_type": "markdown",
   "metadata": {},
   "source": [
    "**1j.** Another column to check is the `contb_receipt_amt` that shows the donation amounts. How many negative donations are included? What do negative donations mean? Please show at least pull a few rows to look at the records with negative donations. Do these records match with the expectation of why a negative donation would happen? (5 points)"
   ]
  },
  {
   "cell_type": "code",
   "execution_count": 9,
   "metadata": {},
   "outputs": [
    {
     "name": "stdout",
     "output_type": "stream",
     "text": [
      "11896\n",
      "negative donations:\n"
     ]
    },
    {
     "data": {
      "text/html": [
       "<div>\n",
       "<style scoped>\n",
       "    .dataframe tbody tr th:only-of-type {\n",
       "        vertical-align: middle;\n",
       "    }\n",
       "\n",
       "    .dataframe tbody tr th {\n",
       "        vertical-align: top;\n",
       "    }\n",
       "\n",
       "    .dataframe thead th {\n",
       "        text-align: right;\n",
       "    }\n",
       "</style>\n",
       "<table border=\"1\" class=\"dataframe\">\n",
       "  <thead>\n",
       "    <tr style=\"text-align: right;\">\n",
       "      <th></th>\n",
       "      <th>cmte_id</th>\n",
       "      <th>cand_id</th>\n",
       "      <th>cand_nm</th>\n",
       "      <th>contbr_nm</th>\n",
       "      <th>contbr_city</th>\n",
       "      <th>contbr_st</th>\n",
       "      <th>contbr_zip</th>\n",
       "      <th>contbr_employer</th>\n",
       "      <th>contbr_occupation</th>\n",
       "      <th>contb_receipt_amt</th>\n",
       "      <th>contb_receipt_dt</th>\n",
       "      <th>receipt_desc</th>\n",
       "      <th>memo_cd</th>\n",
       "      <th>memo_text</th>\n",
       "      <th>form_tp</th>\n",
       "      <th>file_num</th>\n",
       "      <th>tran_id</th>\n",
       "      <th>election_tp</th>\n",
       "    </tr>\n",
       "  </thead>\n",
       "  <tbody>\n",
       "    <tr>\n",
       "      <th>19</th>\n",
       "      <td>C00574624</td>\n",
       "      <td>P60006111</td>\n",
       "      <td>Cruz, Rafael Edward 'Ted'</td>\n",
       "      <td>JOLLIFF, RICHARD</td>\n",
       "      <td>CHICO</td>\n",
       "      <td>CA</td>\n",
       "      <td>959,289,507.00</td>\n",
       "      <td>SELF EMPLOYED</td>\n",
       "      <td>RANCHER</td>\n",
       "      <td>-25.00</td>\n",
       "      <td>2016-04-29</td>\n",
       "      <td>REDESIGNATION TO GENERAL</td>\n",
       "      <td>X</td>\n",
       "      <td>REDESIGNATION TO GENERAL</td>\n",
       "      <td>SA17A</td>\n",
       "      <td>1077664</td>\n",
       "      <td>SA17A.1826482B</td>\n",
       "      <td>P2016</td>\n",
       "    </tr>\n",
       "    <tr>\n",
       "      <th>23</th>\n",
       "      <td>C00574624</td>\n",
       "      <td>P60006111</td>\n",
       "      <td>Cruz, Rafael Edward 'Ted'</td>\n",
       "      <td>JOLLIFF, RICHARD</td>\n",
       "      <td>CHICO</td>\n",
       "      <td>CA</td>\n",
       "      <td>959,289,507.00</td>\n",
       "      <td>SELF EMPLOYED</td>\n",
       "      <td>RANCHER</td>\n",
       "      <td>-150.00</td>\n",
       "      <td>2016-04-29</td>\n",
       "      <td>REDESIGNATION TO GENERAL</td>\n",
       "      <td>X</td>\n",
       "      <td>REDESIGNATION TO GENERAL</td>\n",
       "      <td>SA17A</td>\n",
       "      <td>1077664</td>\n",
       "      <td>SA17A.1826483B</td>\n",
       "      <td>P2016</td>\n",
       "    </tr>\n",
       "    <tr>\n",
       "      <th>81</th>\n",
       "      <td>C00574624</td>\n",
       "      <td>P60006111</td>\n",
       "      <td>Cruz, Rafael Edward 'Ted'</td>\n",
       "      <td>JOLLIFF, RICHARD</td>\n",
       "      <td>CHICO</td>\n",
       "      <td>CA</td>\n",
       "      <td>959,289,507.00</td>\n",
       "      <td>SELF EMPLOYED</td>\n",
       "      <td>RANCHER</td>\n",
       "      <td>-60.00</td>\n",
       "      <td>2016-04-14</td>\n",
       "      <td>REDESIGNATION TO GENERAL</td>\n",
       "      <td>X</td>\n",
       "      <td>REDESIGNATION TO GENERAL</td>\n",
       "      <td>SA17A</td>\n",
       "      <td>1077664</td>\n",
       "      <td>SA17A.1827494</td>\n",
       "      <td>P2016</td>\n",
       "    </tr>\n",
       "    <tr>\n",
       "      <th>190</th>\n",
       "      <td>C00574624</td>\n",
       "      <td>P60006111</td>\n",
       "      <td>Cruz, Rafael Edward 'Ted'</td>\n",
       "      <td>NOWELL, DIANA L.</td>\n",
       "      <td>RANCHO SANTA MARGARITA</td>\n",
       "      <td>CA</td>\n",
       "      <td>926,884,928.00</td>\n",
       "      <td>CAPISTRAND UNIFIED SCHOOL DISTRICT</td>\n",
       "      <td>LIBRARIAN TECHNICIAN</td>\n",
       "      <td>-100.00</td>\n",
       "      <td>2016-04-11</td>\n",
       "      <td>REDESIGNATION TO GENERAL</td>\n",
       "      <td>X</td>\n",
       "      <td>REDESIGNATION TO GENERAL</td>\n",
       "      <td>SA17A</td>\n",
       "      <td>1077664</td>\n",
       "      <td>SA17A.1639830B</td>\n",
       "      <td>P2016</td>\n",
       "    </tr>\n",
       "    <tr>\n",
       "      <th>213</th>\n",
       "      <td>C00574624</td>\n",
       "      <td>P60006111</td>\n",
       "      <td>Cruz, Rafael Edward 'Ted'</td>\n",
       "      <td>LICHTY, ANDREW MR.</td>\n",
       "      <td>SAN DIEGO</td>\n",
       "      <td>CA</td>\n",
       "      <td>921,096,720.00</td>\n",
       "      <td>SELF EMPLOYED</td>\n",
       "      <td>REAL ESTATE</td>\n",
       "      <td>-25.00</td>\n",
       "      <td>2016-04-30</td>\n",
       "      <td>REDESIGNATION TO GENERAL</td>\n",
       "      <td>X</td>\n",
       "      <td>REDESIGNATION TO GENERAL</td>\n",
       "      <td>SA17A</td>\n",
       "      <td>1077664</td>\n",
       "      <td>SA17A.1826888B</td>\n",
       "      <td>P2016</td>\n",
       "    </tr>\n",
       "  </tbody>\n",
       "</table>\n",
       "</div>"
      ],
      "text/plain": [
       "       cmte_id    cand_id                    cand_nm           contbr_nm  \\\n",
       "19   C00574624  P60006111  Cruz, Rafael Edward 'Ted'    JOLLIFF, RICHARD   \n",
       "23   C00574624  P60006111  Cruz, Rafael Edward 'Ted'    JOLLIFF, RICHARD   \n",
       "81   C00574624  P60006111  Cruz, Rafael Edward 'Ted'    JOLLIFF, RICHARD   \n",
       "190  C00574624  P60006111  Cruz, Rafael Edward 'Ted'    NOWELL, DIANA L.   \n",
       "213  C00574624  P60006111  Cruz, Rafael Edward 'Ted'  LICHTY, ANDREW MR.   \n",
       "\n",
       "                contbr_city contbr_st     contbr_zip  \\\n",
       "19                    CHICO        CA 959,289,507.00   \n",
       "23                    CHICO        CA 959,289,507.00   \n",
       "81                    CHICO        CA 959,289,507.00   \n",
       "190  RANCHO SANTA MARGARITA        CA 926,884,928.00   \n",
       "213               SAN DIEGO        CA 921,096,720.00   \n",
       "\n",
       "                        contbr_employer     contbr_occupation  \\\n",
       "19                        SELF EMPLOYED               RANCHER   \n",
       "23                        SELF EMPLOYED               RANCHER   \n",
       "81                        SELF EMPLOYED               RANCHER   \n",
       "190  CAPISTRAND UNIFIED SCHOOL DISTRICT  LIBRARIAN TECHNICIAN   \n",
       "213                       SELF EMPLOYED           REAL ESTATE   \n",
       "\n",
       "     contb_receipt_amt contb_receipt_dt              receipt_desc memo_cd  \\\n",
       "19              -25.00       2016-04-29  REDESIGNATION TO GENERAL       X   \n",
       "23             -150.00       2016-04-29  REDESIGNATION TO GENERAL       X   \n",
       "81              -60.00       2016-04-14  REDESIGNATION TO GENERAL       X   \n",
       "190            -100.00       2016-04-11  REDESIGNATION TO GENERAL       X   \n",
       "213             -25.00       2016-04-30  REDESIGNATION TO GENERAL       X   \n",
       "\n",
       "                    memo_text form_tp  file_num         tran_id election_tp  \n",
       "19   REDESIGNATION TO GENERAL   SA17A   1077664  SA17A.1826482B       P2016  \n",
       "23   REDESIGNATION TO GENERAL   SA17A   1077664  SA17A.1826483B       P2016  \n",
       "81   REDESIGNATION TO GENERAL   SA17A   1077664   SA17A.1827494       P2016  \n",
       "190  REDESIGNATION TO GENERAL   SA17A   1077664  SA17A.1639830B       P2016  \n",
       "213  REDESIGNATION TO GENERAL   SA17A   1077664  SA17A.1826888B       P2016  "
      ]
     },
     "execution_count": 9,
     "metadata": {},
     "output_type": "execute_result"
    }
   ],
   "source": [
    "# 1j YOUR CODE HERE\n",
    "neg=contrib['contb_receipt_amt']\n",
    "neg_count=neg.where(neg<0).count()\n",
    "print(neg_count)\n",
    "\n",
    "print(\"negative donations:\")\n",
    "contrib.loc[contrib['contb_receipt_amt'] < 0].head(5)\n"
   ]
  },
  {
   "cell_type": "markdown",
   "metadata": {},
   "source": [
    "- **1j answer here:**\n",
    "There are 11896 negative donations. Negative donations are refunds. Yes, the records match with expectation. The \"Redesignation to General\" indicates that a contribution, originally designated for a specific purpose (primary in this case), has been reclassified or redirected to general election (which in other words means a refund or a negative amount). "
   ]
  },
  {
   "cell_type": "markdown",
   "metadata": {},
   "source": [
    "**1k.** One more column to look at is the date of donation column. Are there any dates outside of the primary period (defined as 1 Jan 2014 to 7 June 2016)? Are the dates well-formatted for our analysis? (5 points)"
   ]
  },
  {
   "cell_type": "code",
   "execution_count": 10,
   "metadata": {},
   "outputs": [
    {
     "name": "stdout",
     "output_type": "stream",
     "text": [
      "           cmte_id    cand_id                    cand_nm           contbr_nm  \\\n",
      "9932     C00458844  P60006723               Rubio, Marco   WHEELER, MARY MS.   \n",
      "9994     C00458844  P60006723               Rubio, Marco   WHEELER, MARY MS.   \n",
      "14673    C00574624  P60006111  Cruz, Rafael Edward 'Ted'     RANDALL, DICK J   \n",
      "14682    C00605568  P20002671              Johnson, Gary           BOAL, ROB   \n",
      "14697    C00605568  P20002671              Johnson, Gary         LEE, JASCHA   \n",
      "...            ...        ...                        ...                 ...   \n",
      "1123992  C00575795  P00003392    Clinton, Hillary Rodham  RANDALL, NANCY ENA   \n",
      "1123993  C00575795  P00003392    Clinton, Hillary Rodham       WRIGHT, LORNA   \n",
      "1123994  C00575795  P00003392    Clinton, Hillary Rodham      BALES, REBECCA   \n",
      "1123995  C00575795  P00003392    Clinton, Hillary Rodham   BELLINGER, MARTHA   \n",
      "1123996  C00580100  P80001571           Trump, Donald J.  DELLA DONNA, KADEE   \n",
      "\n",
      "         contbr_city contbr_st     contbr_zip                 contbr_employer  \\\n",
      "9932        ATHERTON        CA 940,273,415.00                   SELF-EMPLOYED   \n",
      "9994        ATHERTON        CA 940,273,415.00                   SELF-EMPLOYED   \n",
      "14673      CUPERTINO        CA      95,014.00                             NaN   \n",
      "14682       OAK PARK        CA      91,377.00                         VENDAVO   \n",
      "14697     SANTA CRUZ        CA      95,065.00                           YAHOO   \n",
      "...              ...       ...            ...                             ...   \n",
      "1123992  BAKERSFIELD        CA      933124485                         RETIRED   \n",
      "1123993      BENICIA        CA      945101743                             NaN   \n",
      "1123994     PASADENA        CA      911051700  PASADENA HEALTHCARE CONSULTING   \n",
      "1123995    CLAREMONT        CA      917112219                             NaN   \n",
      "1123996   LONG BEACH        CA          90803                   SELF-EMPLOYED   \n",
      "\n",
      "         contbr_occupation  contb_receipt_amt contb_receipt_dt receipt_desc  \\\n",
      "9932     INTERIOR DESIGNER             -20.00       2013-11-05          NaN   \n",
      "9994     INTERIOR DESIGNER              20.00       2013-11-05          NaN   \n",
      "14673                  NaN          -5,400.00       2016-06-30       Refund   \n",
      "14682             ENGINEER              30.00       2016-07-20          NaN   \n",
      "14697              S/W ENG              88.45       2016-07-14          NaN   \n",
      "...                    ...                ...              ...          ...   \n",
      "1123992   REGISTERED NURSE               5.00       2016-08-02          NaN   \n",
      "1123993            RETIRED              50.00       2016-08-09          NaN   \n",
      "1123994       HOSPITAL CFO             100.00       2016-08-31          NaN   \n",
      "1123995            RETIRED              75.00       2016-08-31          NaN   \n",
      "1123996        REAL ESTATE             250.00       2016-07-06          NaN   \n",
      "\n",
      "        memo_cd                    memo_text form_tp  file_num  \\\n",
      "9932          X  TRANSFER FROM RUBIO VICTORY    SA18   1029436   \n",
      "9994          X  TRANSFER FROM RUBIO VICTORY    SA18   1029436   \n",
      "14673       NaN                          NaN   SB28A   1096256   \n",
      "14682       NaN                          NaN   SA17A   1096305   \n",
      "14697       NaN                          NaN   SA17A   1096305   \n",
      "...         ...                          ...     ...       ...   \n",
      "1123992     NaN                          NaN   SA17A   1100718   \n",
      "1123993     NaN                          NaN   SA17A   1100718   \n",
      "1123994     NaN                          NaN   SA17A   1100718   \n",
      "1123995     NaN                          NaN   SA17A   1100718   \n",
      "1123996     NaN                          NaN   SA17A   1104813   \n",
      "\n",
      "                    tran_id election_tp  \n",
      "9932     SA18.631526.2.0615       P2016  \n",
      "9994     SA18.631526.3.0615       G2016  \n",
      "14673           SB28A.90932         NaN  \n",
      "14682           SA17A.50793       G2016  \n",
      "14697           SA17A.51414       G2016  \n",
      "...                     ...         ...  \n",
      "1123992            C8235857       G2016  \n",
      "1123993            C8997947       G2016  \n",
      "1123994            C9829807       G2016  \n",
      "1123995            C9862797       G2016  \n",
      "1123996       SA17A.1627816       P2016  \n",
      "\n",
      "[451372 rows x 18 columns]\n",
      "\n",
      "Rows with Missing Dates:\n",
      "Empty DataFrame\n",
      "Columns: [cmte_id, cand_id, cand_nm, contbr_nm, contbr_city, contbr_st, contbr_zip, contbr_employer, contbr_occupation, contb_receipt_amt, contb_receipt_dt, receipt_desc, memo_cd, memo_text, form_tp, file_num, tran_id, election_tp]\n",
      "Index: []\n"
     ]
    }
   ],
   "source": [
    "# 1k YOUR CODE HERE\n",
    "\n",
    "contrib['contb_receipt_dt'] = pd.to_datetime(contrib['contb_receipt_dt'])\n",
    "\n",
    "# Display rows with dates outside the primary period\n",
    "outside_primary_period = contrib[(contrib['contb_receipt_dt'] < '2014-01-01') | (contrib['contb_receipt_dt'] > '2016-06-07')]\n",
    "\n",
    "# Show the selected rows\n",
    "#print(\"Rows with Dates Outside the Primary Period:\")\n",
    "print(outside_primary_period)\n",
    "\n",
    "# Check if there are any missing or poorly formatted dates\n",
    "missing_invalid_dates = contrib[contrib['contb_receipt_dt'].isnull()]\n",
    "\n",
    "# Show the rows with missing or poorly formatted dates\n",
    "print(\"\\nRows with Missing Dates:\")\n",
    "print(missing_invalid_dates)\n"
   ]
  },
  {
   "cell_type": "markdown",
   "metadata": {},
   "source": [
    "- **1k answer here:**\n",
    "Yes, there are dates outside of the primary period. The dates are well-formulated. "
   ]
  },
  {
   "cell_type": "markdown",
   "metadata": {
    "collapsed": true,
    "deletable": false,
    "nbgrader": {
     "checksum": "bffd2778d22127102347386bfb6f5b20",
     "grade": true,
     "grade_id": "cell-4ad1da24176f0450",
     "locked": false,
     "points": 0,
     "schema_version": 1,
     "solution": true
    }
   },
   "source": [
    "**1l.** Finally, answer the initial questions in the cells below (5 points)"
   ]
  },
  {
   "cell_type": "markdown",
   "metadata": {},
   "source": [
    "**1l.1** Do we have the correct # of columns and rows.\n",
    "\n",
    "- **1l.1 answer here:**\n",
    "Yes, we have the correct # of columns and rows as expected. "
   ]
  },
  {
   "cell_type": "markdown",
   "metadata": {},
   "source": [
    "**1l.2** Do the records contain data for the questions we want to answer?\n",
    "\n",
    "- **1l.2 answer here:**\n",
    "Yes the records contain data for the questions we want to answer."
   ]
  },
  {
   "cell_type": "markdown",
   "metadata": {},
   "source": [
    "**1l.3** What columns are important?\n",
    "\n",
    "- **1l.3 answer here:** \n",
    "contbr_zip, contb_receipt_amt and,contb_receipt_dt are important columns. "
   ]
  },
  {
   "cell_type": "markdown",
   "metadata": {},
   "source": [
    "**1l.4** What columns can be dropped?\n",
    "\n",
    "- **1l.4 answer here:** \n",
    "cmte_id, contbr_employer, contbr_occupation,receipt_desc, memo_cd, memo_text, form_tp, file_num, tran_id, election_tp, contbr_st, contbr_nm can be dropped. \n",
    "contbr_city and cand_nm can also be dropped, but they can be useful in further analysis. For example, cand_nm will be needed to find out candidates name based on cand_id. \n"
   ]
  },
  {
   "cell_type": "markdown",
   "metadata": {},
   "source": [
    "**1l.5** What are the data problems?\n",
    "\n",
    "- **1l.5 answer here:**\n",
    "The accuracy of the data cannot be verified. It is also not know if any positive donations have been entered as negative amount by mistake. "
   ]
  },
  {
   "cell_type": "markdown",
   "metadata": {},
   "source": [
    "**1l.6** List any assumptions so far:\n",
    "\n",
    "- **1l.6 answer here:**\n",
    "Assumptions:\n",
    "a. All the refunds have been recorded as negative amount in contb_receipt_amt column. \n",
    "b. Data integrity: All entries are accurate, complete, and consistent. "
   ]
  },
  {
   "cell_type": "markdown",
   "metadata": {
    "collapsed": true,
    "deletable": false,
    "nbgrader": {
     "checksum": "14c2855e3d59f0da6b1afd5cf0da2da8",
     "grade": true,
     "grade_id": "cell-fd840cdd19d2bd2a",
     "locked": false,
     "points": 0,
     "schema_version": 1,
     "solution": true
    }
   },
   "source": [
    "***\n",
    "## 2. Data filtering and data quality fixes (30 points)\n",
    "\n",
    "Now that we have a basic understanding of the data, let's filter out the records we don't need and fix the data."
   ]
  },
  {
   "cell_type": "markdown",
   "metadata": {},
   "source": [
    "**2a.** From the dataset filter out (remove) any election_tp not in the primary election. Print/show the shape of the dataframe after the filtering is complete. (5 points)"
   ]
  },
  {
   "cell_type": "code",
   "execution_count": 11,
   "metadata": {
    "deletable": false,
    "nbgrader": {
     "checksum": "43ce3d15cee7ab73f53fd8f054c9826c",
     "grade": true,
     "grade_id": "cell-dce8d3107c1463ca",
     "locked": false,
     "points": 0,
     "schema_version": 1,
     "solution": true
    }
   },
   "outputs": [
    {
     "name": "stdout",
     "output_type": "stream",
     "text": [
      "Shape of DataFrame after Filtering: (810481, 18)\n"
     ]
    }
   ],
   "source": [
    "# 2a YOUR CODE HERE\n",
    "\n",
    "primary_contributions_data = contrib[contrib['election_tp'] == 'P2016']\n",
    "\n",
    "# Print the shape of the DataFrame after filtering\n",
    "print(\"Shape of DataFrame after Filtering:\", primary_contributions_data.shape)\n"
   ]
  },
  {
   "cell_type": "markdown",
   "metadata": {
    "deletable": false,
    "nbgrader": {
     "checksum": "a5f4e6df0f32e24c492a9589ec87fef6",
     "grade": true,
     "grade_id": "cell-9e3f68b21dac8e10",
     "locked": false,
     "points": 0,
     "schema_version": 1,
     "solution": true
    }
   },
   "source": [
    "**2b.** From the dataset filter out (remove) any candidate that is not Bernie Sanders. Print/show the shape of the dataframe after the filtering is complete. (5 points)"
   ]
  },
  {
   "cell_type": "code",
   "execution_count": 12,
   "metadata": {
    "deletable": false,
    "nbgrader": {
     "checksum": "4f1a9e7ee0ded9d2b5af5777cb85e505",
     "grade": true,
     "grade_id": "cell-c14fbed9d72d54e3",
     "locked": false,
     "points": 0,
     "schema_version": 1,
     "solution": true
    }
   },
   "outputs": [
    {
     "name": "stdout",
     "output_type": "stream",
     "text": [
      "Shape of DataFrame after Filtering: (407171, 18)\n"
     ]
    }
   ],
   "source": [
    "# 2b YOUR CODE HERE\n",
    "primary_contributions_data_Bernie = primary_contributions_data[primary_contributions_data['cand_id'] == 'P60007168']\n",
    "\n",
    "# Print the shape of the DataFrame after filtering\n",
    "print(\"Shape of DataFrame after Filtering:\", primary_contributions_data_Bernie.shape)\n"
   ]
  },
  {
   "cell_type": "markdown",
   "metadata": {},
   "source": [
    "**2c.** The `contbr_zip` column is not formatted well for our analysis. Make a new zipcode column that is the five-digit zipcodes. Filter out any records outside of California based on the zipcode. Print/show the shape of the dataframe after the filtering is complete. (10 points).\n",
    "\n",
    "- You will have to research what the valid 5-digit zipcodes for California are!"
   ]
  },
  {
   "cell_type": "code",
   "execution_count": 13,
   "metadata": {},
   "outputs": [
    {
     "name": "stdout",
     "output_type": "stream",
     "text": [
      "           cmte_id    cand_id           cand_nm            contbr_nm  \\\n",
      "3        C00577130  P60007168  Sanders, Bernard            LEE, ALAN   \n",
      "4        C00577130  P60007168  Sanders, Bernard     LEONELLI, ODETTE   \n",
      "5        C00577130  P60007168  Sanders, Bernard     LEONELLI, ODETTE   \n",
      "6        C00577130  P60007168  Sanders, Bernard       LEOPARD, PATTI   \n",
      "8        C00577130  P60007168  Sanders, Bernard         LEPKE, KELLY   \n",
      "...            ...        ...               ...                  ...   \n",
      "1121696  C00577130  P60007168  Sanders, Bernard       SIMONE, ARLENE   \n",
      "1121698  C00577130  P60007168  Sanders, Bernard       SIMONE, ARLENE   \n",
      "1121703  C00577130  P60007168  Sanders, Bernard  ROBINSON, KATHARINE   \n",
      "1121704  C00577130  P60007168  Sanders, Bernard  ROBINSON, KATHARINE   \n",
      "1121705  C00577130  P60007168  Sanders, Bernard  ROBINSON, KATHARINE   \n",
      "\n",
      "           contbr_city contbr_st   contbr_zip            contbr_employer  \\\n",
      "3            CAMARILLO        CA  930111214.0  AT&T GOVERNMENT SOLUTIONS   \n",
      "4        REDONDO BEACH        CA  902784310.0   VERICOR ENTERPRISES INC.   \n",
      "5        REDONDO BEACH        CA  902784310.0   VERICOR ENTERPRISES INC.   \n",
      "6                VISTA        CA  920842849.0  ONSITE ENERGY CORPORATION   \n",
      "8          WESTMINSTER        CA  926833846.0                       NONE   \n",
      "...                ...       ...          ...                        ...   \n",
      "1121696         ENCINO        CA    914361655     SELF EMPLOYED-EMPLOYED   \n",
      "1121698         ENCINO        CA    914361655     SELF EMPLOYED-EMPLOYED   \n",
      "1121703      FULLERTON        CA    928313414        CITY OF LOS ANGELES   \n",
      "1121704      FULLERTON        CA    928313414        CITY OF LOS ANGELES   \n",
      "1121705      FULLERTON        CA    928313414        CITY OF LOS ANGELES   \n",
      "\n",
      "            contbr_occupation  contb_receipt_amt contb_receipt_dt  \\\n",
      "3           SOFTWARE ENGINEER              40.00       2016-03-04   \n",
      "4                  PHARMACIST              35.00       2016-03-05   \n",
      "5                  PHARMACIST             100.00       2016-03-06   \n",
      "6             PROJECT MANAGER              25.00       2016-03-04   \n",
      "8                NOT EMPLOYED              10.00       2016-03-05   \n",
      "...                       ...                ...              ...   \n",
      "1121696          ENTERTASINER              50.00       2016-04-23   \n",
      "1121698          ENTERTASINER             100.00       2016-04-27   \n",
      "1121703  MANAGEMENT ASSISTANT              15.00       2016-04-15   \n",
      "1121704  MANAGEMENT ASSISTANT              15.00       2016-04-23   \n",
      "1121705  MANAGEMENT ASSISTANT              15.00       2016-04-25   \n",
      "\n",
      "        receipt_desc memo_cd                            memo_text form_tp  \\\n",
      "3                NaN     NaN  * EARMARKED CONTRIBUTION: SEE BELOW   SA17A   \n",
      "4                NaN     NaN  * EARMARKED CONTRIBUTION: SEE BELOW   SA17A   \n",
      "5                NaN     NaN  * EARMARKED CONTRIBUTION: SEE BELOW   SA17A   \n",
      "6                NaN     NaN  * EARMARKED CONTRIBUTION: SEE BELOW   SA17A   \n",
      "8                NaN     NaN  * EARMARKED CONTRIBUTION: SEE BELOW   SA17A   \n",
      "...              ...     ...                                  ...     ...   \n",
      "1121696          NaN     NaN  * EARMARKED CONTRIBUTION: SEE BELOW   SA17A   \n",
      "1121698          NaN     NaN  * EARMARKED CONTRIBUTION: SEE BELOW   SA17A   \n",
      "1121703          NaN     NaN  * EARMARKED CONTRIBUTION: SEE BELOW   SA17A   \n",
      "1121704          NaN     NaN  * EARMARKED CONTRIBUTION: SEE BELOW   SA17A   \n",
      "1121705          NaN     NaN  * EARMARKED CONTRIBUTION: SEE BELOW   SA17A   \n",
      "\n",
      "         file_num      tran_id election_tp   zipcode  \n",
      "3         1077404  VPF7BKWA097       P2016 93,011.00  \n",
      "4         1077404  VPF7BKX3MB3       P2016 90,278.00  \n",
      "5         1077404  VPF7BKYBXV4       P2016 90,278.00  \n",
      "6         1077404  VPF7BKW04C1       P2016 92,084.00  \n",
      "8         1077404  VPF7BKX3H59       P2016 92,683.00  \n",
      "...           ...          ...         ...       ...  \n",
      "1121696   1079445  VPF7BP5TFS6       P2016 91,436.00  \n",
      "1121698   1079445  VPF7BP86GH6       P2016 91,436.00  \n",
      "1121703   1079445  VPF7BNXXDY5       P2016 92,831.00  \n",
      "1121704   1079445  VPF7BP64DH7       P2016 92,831.00  \n",
      "1121705   1079445  VPF7BP6KBS4       P2016 92,831.00  \n",
      "\n",
      "[407135 rows x 19 columns]\n",
      "Shape of DataFrame after Filtering for California Zip Codes: (407135, 19)\n",
      "NaN values in 'zipcode': False\n"
     ]
    }
   ],
   "source": [
    "# 2c YOUR CODE HERE\n",
    "\n",
    "\"\"\" California zipcode ranges between 90001 and 961062\"\"\"\n",
    "\n",
    "# Dropping rows with missing values in the 'contbr_zip' column\n",
    "contrib_cleaned = primary_contributions_data_Bernie.dropna(subset=['contbr_zip'])\n",
    "\n",
    "\n",
    "# Extracting the first five characters from 'contbr_zip' to get five-digit zip codes\n",
    "contrib_cleaned['contbr_zip'] = contrib_cleaned['contbr_zip'].astype(str)\n",
    "contrib_cleaned['zipcode'] = contrib_cleaned['contbr_zip'].str[:5]\n",
    "\n",
    "# Converting 'zipcode' column to numeric, replacing non-numeric values with NaN\n",
    "contrib_cleaned['zipcode'] = pd.to_numeric(contrib_cleaned['zipcode'], errors='coerce')\n",
    "\n",
    "\n",
    "# Filtering out records for California zipcode \n",
    "california_contributions = contrib_cleaned[\n",
    "    (contrib_cleaned['zipcode'] >= 90001) &\n",
    "    (contrib_cleaned['zipcode'] <= 96162)]\n",
    "\n",
    "print(california_contributions)\n",
    "# Printing the shape of the DataFrame after filtering\n",
    "print(\"Shape of DataFrame after Filtering for California Zip Codes:\", california_contributions.shape)\n",
    "\n",
    "# Checking for NaN values in 'zipcode'\n",
    "print(\"NaN values in 'zipcode':\", california_contributions['zipcode'].isna().any())\n",
    "\n",
    "\n"
   ]
  },
  {
   "cell_type": "markdown",
   "metadata": {},
   "source": [
    "**2d.** The receipt amount column has negative donations. After talking with your team, a decision was made that the best course of action is to remove these negative values so that the donation count and amount is more accurate. Print/show the shape of the dataframe after the filtering is complete. (5 points)"
   ]
  },
  {
   "cell_type": "code",
   "execution_count": 15,
   "metadata": {},
   "outputs": [
    {
     "name": "stdout",
     "output_type": "stream",
     "text": [
      "Shape of DataFrame after removing negative donations: (404083, 19)\n"
     ]
    }
   ],
   "source": [
    "# 2d YOUR CODE HERE\n",
    "\n",
    "# Filter out rows with negative values in 'contb_receipt_amt'\n",
    "contrib_filtered = contrib_cleaned[contrib_cleaned['contb_receipt_amt'] >= 0]\n",
    "\n",
    "# Print the shape of the DataFrame after filtering\n",
    "print(\"Shape of DataFrame after removing negative donations:\", contrib_filtered.shape)\n"
   ]
  },
  {
   "cell_type": "markdown",
   "metadata": {},
   "source": [
    "**2e.** From the dataset drop any columns that won't be used in the analysis. Print/show the shape of the dataframe after the dropping is complete. What columns did you drop and why? (5 points)"
   ]
  },
  {
   "cell_type": "code",
   "execution_count": 16,
   "metadata": {},
   "outputs": [
    {
     "name": "stdout",
     "output_type": "stream",
     "text": [
      "         contb_receipt_amt contb_receipt_dt   zipcode\n",
      "3                    40.00       2016-03-04 93,011.00\n",
      "4                    35.00       2016-03-05 90,278.00\n",
      "5                   100.00       2016-03-06 90,278.00\n",
      "6                    25.00       2016-03-04 92,084.00\n",
      "8                    10.00       2016-03-05 92,683.00\n",
      "...                    ...              ...       ...\n",
      "1121696              50.00       2016-04-23 91,436.00\n",
      "1121698             100.00       2016-04-27 91,436.00\n",
      "1121703              15.00       2016-04-15 92,831.00\n",
      "1121704              15.00       2016-04-23 92,831.00\n",
      "1121705              15.00       2016-04-25 92,831.00\n",
      "\n",
      "[404083 rows x 3 columns]\n"
     ]
    },
    {
     "data": {
      "text/plain": [
       "(404083, 3)"
      ]
     },
     "execution_count": 16,
     "metadata": {},
     "output_type": "execute_result"
    }
   ],
   "source": [
    "# 2e YOUR CODE HERE\n",
    "analysis_data=contrib_filtered.drop(columns=['cmte_id','cand_id','contbr_nm','contbr_st','contbr_employer','contbr_occupation',\n",
    "                              'receipt_desc','memo_cd','memo_text','form_tp','file_num','tran_id','election_tp','contbr_city',\n",
    "                              'cand_nm','contbr_zip'])\n",
    "\n",
    "print(analysis_data)\n",
    "analysis_data.shape"
   ]
  },
  {
   "cell_type": "markdown",
   "metadata": {},
   "source": [
    "- **2e answer here:**\n",
    "Shape is [404083 rows x 3 columns]. \n",
    "I dropped all columns except contirb_receipt_amt, contb_receipt_dr, and zipcode columns. This is because all the other columns are not needed for the analysis. \n",
    "\n",
    "zipcode and contb_receipt_amt column are needed to find zipcode with the highest count of contributions and also to find the most dollar amount. \n",
    "\n",
    "contb_receipt_dt column is needed to find the days of the month with most number of contributions. \n",
    "\n",
    "Since the data is already filtered for Bernie Sanders and Primary election and california donations, we do not need the columns containing those information. The rest of the columns that have been removed are also not needed in the analysis. "
   ]
  },
  {
   "cell_type": "markdown",
   "metadata": {},
   "source": [
    "**2f.** List any assumptions that you made up to this point:"
   ]
  },
  {
   "cell_type": "markdown",
   "metadata": {},
   "source": [
    "- **2f answer here:**\n",
    "Assumptions:\n",
    "a. Data are accurate and there is no mixing of Sanders and Hilary data.\n",
    "b. All refunds and redesignation amounts have been correctly logged as negative amount. All other donations are recorded as \n",
    "   positive amount. \n"
   ]
  },
  {
   "cell_type": "markdown",
   "metadata": {
    "deletable": false,
    "nbgrader": {
     "checksum": "6dc1481a003cdd752c5edfa9ac400879",
     "grade": true,
     "grade_id": "cell-f7a01ce9c5b10ac7",
     "locked": false,
     "points": 0,
     "schema_version": 1,
     "solution": true
    }
   },
   "source": [
    "***\n",
    "## 3. Answering the questions (20 points)\n",
    "\n",
    "Now that the data is cleaned and filterd - let's answer the two questions from your boss!"
   ]
  },
  {
   "cell_type": "markdown",
   "metadata": {
    "deletable": false,
    "nbgrader": {
     "checksum": "010f5de5f6af4c7f830d1cf7a81bbc0f",
     "grade": true,
     "grade_id": "cell-5617179133b06d0c",
     "locked": false,
     "points": 0,
     "schema_version": 1,
     "solution": true
    }
   },
   "source": [
    "**3a.** Which zipcode had the highest count of contributions and the most dollar amount? (10 points)"
   ]
  },
  {
   "cell_type": "code",
   "execution_count": 17,
   "metadata": {},
   "outputs": [
    {
     "name": "stdout",
     "output_type": "stream",
     "text": [
      "The zipcode with the highest count of contributions: 94110.0\n",
      "The zipcode with the most dollar amount: 94110.0\n"
     ]
    }
   ],
   "source": [
    "# 3a YOUR CODE HERE\n",
    "# Grouping by 'zipcode' and calculating the count and sum for each zipcode\n",
    "zipcode_stats = analysis_data.groupby('zipcode').agg({'contb_receipt_amt': ['count', 'sum']})\n",
    "\n",
    "# Rename the columns for clarity\n",
    "zipcode_stats.columns = ['contribution_count', 'total_dollar_amount']\n",
    "\n",
    "# Find the zipcode with the highest count of contributions\n",
    "highest_count_zipcode = zipcode_stats['contribution_count'].idxmax()\n",
    "\n",
    "# Find the zipcode with the highest total dollar amount\n",
    "highest_amount_zipcode = zipcode_stats['total_dollar_amount'].idxmax()\n",
    "\n",
    "print(f\"The zipcode with the highest count of contributions: {highest_count_zipcode}\")\n",
    "print(f\"The zipcode with the most dollar amount: {highest_amount_zipcode}\")\n"
   ]
  },
  {
   "cell_type": "markdown",
   "metadata": {},
   "source": [
    "- **3a answer here:** "
   ]
  },
  {
   "cell_type": "markdown",
   "metadata": {},
   "source": [
    "**3b.** What day(s) of the month do most people donate? (10 points)"
   ]
  },
  {
   "cell_type": "code",
   "execution_count": 18,
   "metadata": {},
   "outputs": [
    {
     "name": "stdout",
     "output_type": "stream",
     "text": [
      "The day(s) of the month with the most donations: 29\n"
     ]
    }
   ],
   "source": [
    "# 3b YOUR CODE HERE\n",
    "\n",
    "# Converting 'contb_receipt_dt' to datetime format\n",
    "analysis_data['contb_receipt_dt'] = pd.to_datetime(analysis_data['contb_receipt_dt'])\n",
    "\n",
    "# Extracting the day of the month\n",
    "analysis_data['day_of_month'] = analysis_data['contb_receipt_dt'].dt.day\n",
    "\n",
    "# Grouping by day of the month and calculating the count of donations\n",
    "day_stats = analysis_data.groupby('day_of_month')['contb_receipt_amt'].count()\n",
    "\n",
    "# Finding the day(s) with the highest count of donations\n",
    "most_donated_days = day_stats.idxmax()\n",
    "\n",
    "print(f\"The day(s) of the month with the most donations: {most_donated_days}\")\n",
    "\n"
   ]
  },
  {
   "cell_type": "markdown",
   "metadata": {},
   "source": [
    "- **3b answer here:** "
   ]
  },
  {
   "cell_type": "markdown",
   "metadata": {},
   "source": [
    "## If you have feedback for this homework, please submit it using the link below:\n",
    "\n",
    "http://goo.gl/forms/74yCiQTf6k"
   ]
  }
 ],
 "metadata": {
  "kernelspec": {
   "display_name": "Python 3 (ipykernel)",
   "language": "python",
   "name": "python3"
  },
  "language_info": {
   "codemirror_mode": {
    "name": "ipython",
    "version": 3
   },
   "file_extension": ".py",
   "mimetype": "text/x-python",
   "name": "python",
   "nbconvert_exporter": "python",
   "pygments_lexer": "ipython3",
   "version": "3.10.9"
  }
 },
 "nbformat": 4,
 "nbformat_minor": 2
}
